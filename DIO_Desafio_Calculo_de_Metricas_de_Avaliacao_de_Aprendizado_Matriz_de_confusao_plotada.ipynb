{
  "nbformat": 4,
  "nbformat_minor": 0,
  "metadata": {
    "colab": {
      "provenance": [],
      "gpuType": "V28"
    },
    "kernelspec": {
      "name": "python3",
      "display_name": "Python 3"
    },
    "accelerator": "TPU"
  },
  "cells": [
    {
      "cell_type": "markdown",
      "source": [
        "1. Instalação do TensorFlow e importações"
      ],
      "metadata": {
        "id": "cM-LcMzlH1ZW"
      }
    },
    {
      "cell_type": "code",
      "metadata": {
        "id": "9GOTUsN2vHZr",
        "outputId": "c9c1c2fc-9c5a-43c9-fc7f-423439736c65",
        "colab": {
          "base_uri": "https://localhost:8080/"
        }
      },
      "source": [
        "#!pip install tensorflow\n",
        "import tensorflow as tf\n",
        "import matplotlib.pyplot as plt\n",
        "from sklearn.metrics import confusion_matrix, ConfusionMatrixDisplay\n",
        "import pandas as pd\n",
        "\n",
        "print(tf.__version__)"
      ],
      "execution_count": 33,
      "outputs": [
        {
          "output_type": "stream",
          "name": "stdout",
          "text": [
            "2.19.0\n"
          ]
        }
      ]
    },
    {
      "cell_type": "markdown",
      "source": [
        "Criando e plotando a matriz confusão com labels para positivo e negativo"
      ],
      "metadata": {
        "id": "KPULFbGiqT9S"
      }
    },
    {
      "cell_type": "code",
      "metadata": {
        "id": "8I41zgjVvF1g",
        "colab": {
          "base_uri": "https://localhost:8080/",
          "height": 472
        },
        "outputId": "bddf95aa-c629-49c4-843d-6ca9e5045575"
      },
      "source": [
        "# Seus dados:\n",
        "VP = 50\n",
        "FN = 10\n",
        "FP = 5\n",
        "VN = 35\n",
        "\n",
        "# Criar as listas de dados\n",
        "y_true = [1]*VP + [1]*FN + [0]*FP + [0]*VN\n",
        "y_pred = [1]*VP + [0]*FN + [1]*FP + [0]*VN\n",
        "\n",
        "# Gerar a matriz\n",
        "cm = confusion_matrix(y_true, y_pred)\n",
        "\n",
        "# Definir os labels personalizados\n",
        "labels = [\"Negativo\", \"Positivo\"]\n",
        "\n",
        "# Mostrar a matriz com labels\n",
        "disp = ConfusionMatrixDisplay(confusion_matrix=cm, display_labels=labels)\n",
        "disp.plot(cmap=plt.cm.Blues, values_format='d')  # 'd' para mostrar números inteiros\n",
        "plt.title('Matriz de Confusão - Dados da Atividade')\n",
        "plt.xlabel('Predito')\n",
        "plt.ylabel('Real')\n",
        "plt.show()\n"
      ],
      "execution_count": 34,
      "outputs": [
        {
          "output_type": "display_data",
          "data": {
            "text/plain": [
              "<Figure size 640x480 with 2 Axes>"
            ],
            "image/png": "[encoded data removed]"
          },
          "metadata": {}
        }
      ]
    },
    {
      "cell_type": "markdown",
      "source": [
        "Definindo as funções métricas"
      ],
      "metadata": {
        "id": "V-FqOe0gquKI"
      }
    },
    {
      "cell_type": "code",
      "source": [
        "# Funções de Métricas\n",
        "def sensibilidade(VP, FN):\n",
        "    return VP / (VP + FN)\n",
        "\n",
        "def especificidade(VN, FP):\n",
        "    return VN / (VN + FP)\n",
        "\n",
        "def acuracia(VP, VN, N):\n",
        "    return (VP + VN) / N\n",
        "\n",
        "def precisao(VP, FP):\n",
        "    return VP / (VP + FP)\n",
        "\n",
        "def f_score(precisao_valor, sensibilidade_valor):\n",
        "    return 2 * (precisao_valor * sensibilidade_valor) / (precisao_valor + sensibilidade_valor)\n"
      ],
      "metadata": {
        "id": "oH5XCbzKm7Ut"
      },
      "execution_count": 35,
      "outputs": []
    },
    {
      "cell_type": "markdown",
      "source": [
        "Calculando as métricas"
      ],
      "metadata": {
        "id": "s8qZIZ_oq4jw"
      }
    },
    {
      "cell_type": "code",
      "source": [
        "# Cálculo das métricas\n",
        "\n",
        "# Número total de amostras\n",
        "N = VP + FN + FP + VN\n",
        "\n",
        "# Calcular cada métrica\n",
        "sensibilidade_valor = sensibilidade(VP, FN)\n",
        "especificidade_valor = especificidade(VN, FP)\n",
        "acuracia_valor = acuracia(VP, VN, N)\n",
        "precisao_valor = precisao(VP, FP)\n",
        "fscore_valor = f_score(precisao_valor, sensibilidade_valor)\n",
        "\n",
        "# Mostrar os resultados\n",
        "print(f\"Sensibilidade (Recall): {sensibilidade_valor:.4f}\")\n",
        "print(f\"Especificidade: {especificidade_valor:.4f}\")\n",
        "print(f\"Acurácia: {acuracia_valor:.4f}\")\n",
        "print(f\"Precisão: {precisao_valor:.4f}\")\n",
        "print(f\"F-Score: {fscore_valor:.4f}\")\n"
      ],
      "metadata": {
        "colab": {
          "base_uri": "https://localhost:8080/"
        },
        "id": "Igc8AESAm7pi",
        "outputId": "644d89c8-4928-4290-f570-fb68a0bcbf40"
      },
      "execution_count": 36,
      "outputs": [
        {
          "output_type": "stream",
          "name": "stdout",
          "text": [
            "Sensibilidade (Recall): 0.8333\n",
            "Especificidade: 0.8750\n",
            "Acurácia: 0.8500\n",
            "Precisão: 0.9091\n",
            "F-Score: 0.8696\n"
          ]
        }
      ]
    },
    {
      "cell_type": "markdown",
      "source": [
        "Agora usando a função avaliar_modelo()"
      ],
      "metadata": {
        "id": "EeUcZRrfrWKo"
      }
    },
    {
      "cell_type": "code",
      "source": [
        "def avaliar_modelo(VP, FN, FP, VN):\n",
        "    \"\"\"Calcula as principais métricas de avaliação de um modelo de classificação binária.\n",
        "\n",
        "    Parâmetros:\n",
        "    -----------\n",
        "    VP : int\n",
        "        Verdadeiros Positivos: casos corretamente classificados como positivos.\n",
        "    FN : int\n",
        "        Falsos Negativos: casos positivos erroneamente classificados como negativos.\n",
        "    FP : int\n",
        "        Falsos Positivos: casos negativos erroneamente classificados como positivos.\n",
        "    VN : int\n",
        "        Verdadeiros Negativos: casos corretamente classificados como negativos.\n",
        "\n",
        "    Retorna:\n",
        "    --------\n",
        "    dict\n",
        "        Dicionário com as métricas calculadas:\n",
        "        - 'Sensibilidade (Recall)': Proporção de positivos reais identificados corretamente.\n",
        "            Fórmula: VP / (VP + FN)\n",
        "        - 'Especificidade': Proporção de negativos reais identificados corretamente.\n",
        "            Fórmula: VN / (VN + FP)\n",
        "        - 'Acurácia': Proporção de classificações corretas (tanto positivas quanto negativas).\n",
        "            Fórmula: (VP + VN) / (VP + FN + FP + VN)\n",
        "        - 'Precisão': Proporção de verdadeiros positivos entre todos os preditos como positivos.\n",
        "            Fórmula: VP / (VP + FP)\n",
        "        - 'F-Score': Média harmônica entre Precisão e Sensibilidade (balanceamento).\n",
        "            Fórmula: 2 * (Precisão * Sensibilidade) / (Precisão + Sensibilidade)\n",
        "\n",
        "    Levanta:\n",
        "    --------\n",
        "    ValueError\n",
        "        Se qualquer denominador for zero (ex.: divisão por zero).\n",
        "\n",
        "    Exemplo:\n",
        "    --------\n",
        "    >>> avaliar_modelo(50, 10, 5, 35)\n",
        "    {\n",
        "        'Sensibilidade (Recall)': 0.8333,\n",
        "        'Especificidade': 0.875,\n",
        "        'Acurácia': 0.85,\n",
        "        'Precisão': 0.9091,\n",
        "        'F-Score': 0.8696\n",
        "    }\n",
        "    \"\"\"\n",
        "    try:\n",
        "        # Verifica divisão por zero\n",
        "        if (VP + FN) == 0 or (VN + FP) == 0 or (VP + FP) == 0:\n",
        "            raise ValueError(\"Divisão por zero - verifique os valores de VP, FN, FP, VN.\")\n",
        "\n",
        "        # Cálculo das métricas\n",
        "        sensibilidade_valor = VP / (VP + FN)\n",
        "        especificidade_valor = VN / (VN + FP)\n",
        "        acuracia_valor = (VP + VN) / (VP + FN + FP + VN)\n",
        "        precisao_valor = VP / (VP + FP)\n",
        "        fscore_valor = 2 * (precisao_valor * sensibilidade_valor) / (precisao_valor + sensibilidade_valor)\n",
        "\n",
        "        return {\n",
        "            \"Sensibilidade (Recall)\": round(sensibilidade_valor, 4),\n",
        "            \"Especificidade\": round(especificidade_valor, 4),\n",
        "            \"Acurácia\": round(acuracia_valor, 4),\n",
        "            \"Precisão\": round(precisao_valor, 4),\n",
        "            \"F-Score\": round(fscore_valor, 4)\n",
        "        }\n",
        "\n",
        "    except Exception as e:\n",
        "        print(f\"Erro: {e}\")\n",
        "        return None"
      ],
      "metadata": {
        "id": "ChnA76bspfJl"
      },
      "execution_count": 37,
      "outputs": []
    },
    {
      "cell_type": "markdown",
      "source": [
        "Rodando a função e mostrando os resultados"
      ],
      "metadata": {
        "id": "wqE2Rymfrxij"
      }
    },
    {
      "cell_type": "code",
      "source": [
        "# Executando a função e mostrando resultados\n",
        "resultados = avaliar_modelo(VP, FN, FP, VN)\n",
        "print(resultados)\n"
      ],
      "metadata": {
        "colab": {
          "base_uri": "https://localhost:8080/"
        },
        "id": "nsoPWKikpjTe",
        "outputId": "0ab80d08-9804-4b40-bad6-ee4f1af31fe0"
      },
      "execution_count": 38,
      "outputs": [
        {
          "output_type": "stream",
          "name": "stdout",
          "text": [
            "{'Sensibilidade (Recall)': 0.8333, 'Especificidade': 0.875, 'Acurácia': 0.85, 'Precisão': 0.9091, 'F-Score': 0.8696}\n"
          ]
        }
      ]
    },
    {
      "cell_type": "markdown",
      "source": [
        "Transformando os resultados em tabela com pandas"
      ],
      "metadata": {
        "id": "h28C7lJjqAOI"
      }
    },
    {
      "cell_type": "code",
      "source": [
        "# Criando o DataFrame\n",
        "df_resultados = pd.DataFrame(resultados.items(), columns=[\"Métrica\", \"Valor\"])\n",
        "\n",
        "# Exibindo o DataFrame\n",
        "print(df_resultados)\n"
      ],
      "metadata": {
        "colab": {
          "base_uri": "https://localhost:8080/"
        },
        "id": "vfB0KPG6pxmW",
        "outputId": "b9b4826f-1180-49aa-f6ab-1eb65239a9a7"
      },
      "execution_count": 39,
      "outputs": [
        {
          "output_type": "stream",
          "name": "stdout",
          "text": [
            "                  Métrica   Valor\n",
            "0  Sensibilidade (Recall)  0.8333\n",
            "1          Especificidade  0.8750\n",
            "2                Acurácia  0.8500\n",
            "3                Precisão  0.9091\n",
            "4                 F-Score  0.8696\n"
          ]
        }
      ]
    }
  ]
}